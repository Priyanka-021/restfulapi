{
  "nbformat": 4,
  "nbformat_minor": 0,
  "metadata": {
    "colab": {
      "provenance": []
    },
    "kernelspec": {
      "name": "python3",
      "display_name": "Python 3"
    },
    "language_info": {
      "name": "python"
    }
  },
  "cells": [
    {
      "cell_type": "markdown",
      "source": [
        "#**Restful API & Flask**\n"
      ],
      "metadata": {
        "id": "xXqXWVzovBwu"
      }
    },
    {
      "cell_type": "markdown",
      "source": [
        "**1.What is a RESTful API?**\n",
        "\n",
        "  A RESTful API (Representational State Transfer API) is a type of web API that adheres to the principles and constraints of REST architecture, which is a style of designing networked applications.\n",
        "\n",
        "**2.Explain the concept of API specification?**\n",
        "\n",
        "  An API specification is a detailed description of how an Application Programming Interface (API) behaves and how it should be used. It serves as a contract between the API provider and its users (developers), clearly outlining the rules for interacting with the API.\n",
        "\n",
        "**3.What is Flask, and why is it popular for building APIs?**\n",
        "\n",
        "  Flask is a micro-framework, meaning it provides the essential tools to build a web application or API, but doesn’t include features like form validation, database abstraction, or authentication out of the box. Instead, it allows developers to add only what they need through extensions. It's especially popular for building web APIs and microservices because of its simplicity, flexibility, and ease of use.\n",
        "\n",
        "**4.What is routing in Flask?**\n",
        "\n",
        "  Routing in Flask is the process of associating URLs with functions in your Python code. These functions are called view functions, and they define what should happen when a specific URL is accessed.\n",
        "\n",
        "**5.How do you create a simple Flask application?**\n",
        "\n",
        "  Creating a simple Flask application is easy and only takes a few steps. Here's a step-by-step guide:\n",
        "  1.Install Flask as pip install flask\n",
        "  2.Create app by\tDefine routes with @app.route()\n",
        "  3.Run app as python app.py\n",
        "\n",
        "**6.What are HTTP methods used in RESTful APIs?**\n",
        "\n",
        "  In RESTful APIs, HTTP methods define the type of operation a client wants to perform on a resource. Each method corresponds to a standard CRUD operation: Create, Read, Update, Delete.\n",
        "\n",
        "**7. What is the purpose of the @app.route() decorator in Flask?**\n",
        "\n",
        "  The @app.route() decorator in Flask is used to bind a URL to a function. This function is known as a view function, and it defines what the server should do when someone visits that URL.\n",
        "\n",
        "**8.What is the difference between GET and POST HTTP methods?**\n",
        "\n",
        "  The GET and POST HTTP methods are both used to communicate with a server, but they serve different purposes and behave differently. GET and POST both are CURD operation but in GET method we trying to retrive or call a data while in POST we generate a data.\n",
        "\n",
        "**9.How do you handle errors in Flask APIs?**\n",
        "\n",
        "  In Flask APIs, error handling is essential to provide meaningful responses to clients when something goes wrong. Flask gives you several ways to manage errors as abort() this is a quick way to return HTTP errors, @app.errorhandler() for custom response for specific errors, try/except for catching and responding to runtime errors and input validation checks\tPrevent errors from bad client data.\n",
        "\n",
        "**10.How do you connect Flask to a SQL database?**\n",
        "\n",
        "  Connecting Flask to a SQL database involves using a database driver (like SQLite or PostgreSQL) and an Object Relational Mapper (ORM) such as SQLAlchemy. following below step for connecting Flask to a SQL database using Flask-SQLAlchemy\n",
        "  1.Install Flask and Flask-SQLAlchemy\n",
        "  2.Set Up Your Flask App and Configure the Database\n",
        "  3.Define Your Database Models\n",
        "  4.Create the Database Tables\n",
        "  5.Perform Database Operations (CRUD)\n",
        "  6.Switch to PostgreSQL or MySQL (Optional)\n",
        "\n",
        "**11.What is the role of Flask-SQLAlchemy?**\n",
        "\n",
        "  Flask-SQLAlchemy is an extension for Flask that simplifies the integration of SQLAlchemy (a powerful and flexible Object-Relational Mapper, or ORM) into your Flask applications. It allows you to interact with relational databases using Python objects, rather than writing raw SQL queries. Key Roles of Flask-SQLAlchemy -:\n",
        "  1.Simplifies Database Setup\n",
        "  2.Provides ORM (Object Relational Mapping)\n",
        "  3.Handles Database Sessions\n",
        "  4.Facilitates Querying with Python Objects\n",
        "  5.Supports Multiple Databases\n",
        "  6.Automatic Table Creation\n",
        "  7.Handles Migrations (with Flask-Migrate)\n",
        "\n",
        "**12.What are Flask blueprints, and how are they useful?**\n",
        "\n",
        "  Flask Blueprints are a way to organize a Flask application into modular components. They allow you to group related routes, templates, static files, and other functionality into reusable units. Think of a blueprint as a \"sub-application\" — it defines part of your app that can be registered on the main app later. Blueprints are useful because modularity, reusability, separation of concerns, cleaner codebase and team-friendly.\n",
        "\n",
        "**13.What is the purpose of Flask's request object?**\n",
        "\n",
        "  The request object in Flask is used to access incoming request data sent by the client (e.g., a browser or API consumer). It is part of Flask's flask module and is essential when building routes that need to read data from an HTTP request. Purpose of Flask's request Object , help to access form data, access JSON data, access query parameters, access URL/path variables, access headers, access file uploads, access HTTP method, access cookies\tand access raw body data.\n",
        "\n",
        "**14.How do you create a RESTful API endpoint using Flask?**\n",
        "\n",
        "  Creating a RESTful API endpoint in Flask is straightforward. Flask provides everything you need to build REST-style routes using HTTP methods like GET, POST, PUT, and DELETE. Use below steps-\n",
        "  1.Set Up Your Flask App\n",
        "  2.Create a Simple In-Memory \"Database\"\n",
        "  3.Define RESTful Endpoints(GET,POST,PUT,DELETE)\n",
        "  4.Run the App\n",
        "\n",
        "**15.What is the purpose of Flask's jsonify() function?**\n",
        "\n",
        "  The jsonify() function in Flask is used to convert Python data structures into a JSON response and return it with the correct Content-Type header (application/json). It's the preferred way to return JSON data from your Flask API endpoints.\n",
        "\n",
        "**16.Explain Flask's url_for() function?**\n",
        "\n",
        "  The url_for() function in Flask is used to dynamically build URLs for routes defined in your application. Instead of hardcoding URLs, you use url_for() to generate them using the function name of the route.\n",
        "\n",
        "**17.How does Flask handle static files (CSS, JavaScript, etc.)?**\n",
        "\n",
        "  Flask handles static files (like CSS, JavaScript, images, etc.) using a built-in folder named static/ in your project directory.\n",
        "\n",
        "**18.What is an API specification, and how does it help in building a Flask API?**\n",
        "  An API specification is a formal document or description that defines how a client can interact with an API. An API specification helps in building a Flask API by acting as a blueprint or contract between the client and the server. It defines how the API should behave before any actual code is written. This leads to better planning, faster development, and more reliable APIs.\n",
        "\n",
        "**19.What are HTTP status codes, and why are they important in a Flask API?**\n",
        "\n",
        "  HTTP status codes are 3-digit numbers returned by a web server (or API) to indicate the result of a client's request. They are part of the HTTP response and help the client understand what happened — whether the request was successful, failed, or requires more action. HTTP status codes in a Flask API provide clear communication between the API and its clients (e.g., browsers, mobile apps, other services).\n",
        "\n",
        "**20.How do you handle POST requests in Flask?**\n",
        "\n",
        "  Handling POST requests in Flask commonly used when clients send data to the server, such as when submitting forms or creating new records via an API.\n",
        "  steps to handel POST requests-\n",
        "  1.Import Required Modules\n",
        "  2.Set Up the Flask App\n",
        "  3.Define a Route That Accepts POST\n",
        "  4.Get data from request.get_json() or request.form\n",
        "  5.Process data and return a response\n",
        "\n",
        "**21.How would you secure a Flask API?**\n",
        "\n",
        "  Securing a Flask API is crucial to protect sensitive data, prevent unauthorized access, and ensure integrity. Flask by default is lightweight and doesn't include security features as authentication, Authorization, Input validation, HTTPS, Rate limiting, CORS control, Secure secrets, Error handling.\n",
        "\n",
        "**22.What is the significance of the Flask-RESTful extension?**\n",
        "\n",
        "  Flask-RESTful is an extension for Flask that helps you quickly build RESTful APIs. It simplifies the process of creating API endpoints by providing:\n",
        "  Cleaner routing, Built-in request parsing, Standardized HTTP method handling (GET, POST, PUT, DELETE), Better organization using classes instead of just functions.\n",
        "\n",
        "**23.What is the role of Flask's session object?**\n",
        "\n",
        "  The session object in Flask is used to store data for a user across multiple requests — like a short-term, secure memory for that user.\n",
        "  It's often used for:- User login states (e.g., session['user_id'] = 42), Flash messages, Shopping carts and Preferences (e.g., theme, language).\n"
      ],
      "metadata": {
        "id": "dtFAWHJFvJHe"
      }
    },
    {
      "cell_type": "markdown",
      "source": [
        "#**Practical**"
      ],
      "metadata": {
        "id": "YQlUF1FPwwgo"
      }
    },
    {
      "cell_type": "markdown",
      "source": [
        "**1.How do you create a basic Flask application?**"
      ],
      "metadata": {
        "id": "tkdrGwWzRXNI"
      }
    },
    {
      "cell_type": "code",
      "source": [
        "!pip install Flask\n",
        "from flask import Flask\n",
        "\n",
        "app = Flask(__name__)\n",
        "\n",
        "@app.route('/')\n",
        "def hello_world():\n",
        "    return 'Hello, World!'\n",
        "\n",
        "if __name__ == '__main__':\n",
        "    app.run(debug=True)\n",
        "    pass"
      ],
      "metadata": {
        "colab": {
          "base_uri": "https://localhost:8080/"
        },
        "id": "Ye8q6M4stWfI",
        "outputId": "323c91ac-0ad9-400f-f3c3-5a5121a1676e"
      },
      "execution_count": null,
      "outputs": [
        {
          "output_type": "stream",
          "name": "stdout",
          "text": [
            "Requirement already satisfied: Flask in /usr/local/lib/python3.11/dist-packages (3.1.0)\n",
            "Requirement already satisfied: Werkzeug>=3.1 in /usr/local/lib/python3.11/dist-packages (from Flask) (3.1.3)\n",
            "Requirement already satisfied: Jinja2>=3.1.2 in /usr/local/lib/python3.11/dist-packages (from Flask) (3.1.6)\n",
            "Requirement already satisfied: itsdangerous>=2.2 in /usr/local/lib/python3.11/dist-packages (from Flask) (2.2.0)\n",
            "Requirement already satisfied: click>=8.1.3 in /usr/local/lib/python3.11/dist-packages (from Flask) (8.1.8)\n",
            "Requirement already satisfied: blinker>=1.9 in /usr/local/lib/python3.11/dist-packages (from Flask) (1.9.0)\n",
            "Requirement already satisfied: MarkupSafe>=2.0 in /usr/local/lib/python3.11/dist-packages (from Jinja2>=3.1.2->Flask) (3.0.2)\n",
            "To run this Flask app in Colab, you typically need a tool like flask-ngrok.\n",
            "For local execution outside of Colab, you can uncomment the line below:\n",
            " * Serving Flask app '__main__'\n",
            " * Debug mode: on\n"
          ]
        },
        {
          "output_type": "stream",
          "name": "stderr",
          "text": [
            "INFO:werkzeug:\u001b[31m\u001b[1mWARNING: This is a development server. Do not use it in a production deployment. Use a production WSGI server instead.\u001b[0m\n",
            " * Running on http://127.0.0.1:5000\n",
            "INFO:werkzeug:\u001b[33mPress CTRL+C to quit\u001b[0m\n",
            "INFO:werkzeug: * Restarting with stat\n"
          ]
        }
      ]
    },
    {
      "cell_type": "markdown",
      "source": [
        "**2.How do you serve static files like images or CSS in Flask?**"
      ],
      "metadata": {
        "id": "YQ7qjfZYtCPk"
      }
    },
    {
      "cell_type": "code",
      "source": [
        "# your_app/\n",
        "# ├── app.py\n",
        "# └── static/\n",
        "#     ├── style.css\n",
        "#     └── image.jpg\n",
        "<!-- Inside a template (e.g., templates/index.html) -->\n",
        "<link rel=\"stylesheet\" href=\"{{ url_for('static', filename='style.css') }}\">\n",
        "<img src=\"{{ url_for('static', filename='image.jpg') }}\" alt=\"Example Image\">\n",
        "\n",
        "from flask import Flask, render_template\n",
        "\n",
        "app = Flask(__name__)\n",
        "\n",
        "@app.route('/')\n",
        "def index():\n",
        "    return render_template('index.html')\n",
        "\n",
        "if __name__ == '__main__':\n",
        "    app.run(debug=True)\n",
        "\n",
        "<!DOCTYPE html>\n",
        "<html>\n",
        "<head>\n",
        "    <title>Static Files Example</title>\n",
        "    <link rel=\"stylesheet\" href=\"{{ url_for('static', filename='style.css') }}\">\n",
        "</head>\n",
        "<body>\n",
        "    <h1>Hello, Flask!</h1>\n",
        "    <img src=\"{{ url_for('static', filename='image.jpg') }}\" alt=\"Sample Image\">\n",
        "</body>\n",
        "</html>"
      ],
      "metadata": {
        "id": "1Rm_nvNML8TM"
      },
      "execution_count": null,
      "outputs": []
    },
    {
      "cell_type": "markdown",
      "source": [
        "**3.How do you define different routes with different HTTP methods in Flask?**\n"
      ],
      "metadata": {
        "id": "zvi_hWSn0CwM"
      }
    },
    {
      "cell_type": "code",
      "source": [
        "from flask import Flask, request\n",
        "\n",
        "app = Flask(__name__)\n",
        "\n",
        "@app.route('/hello', methods=['GET'])\n",
        "def hello_get():\n",
        "    return 'Hello via GET!'\n",
        "\n",
        "@app.route('/hello', methods=['POST'])\n",
        "def hello_post():\n",
        "    return 'Hello via POST!'\n",
        "\n",
        "@app.route('/submit', methods=['GET', 'POST'])\n",
        "def submit():\n",
        "    if request.method == 'POST':\n",
        "        return 'Form submitted via POST.'\n",
        "    else:\n",
        "        return 'Form page via GET.'\n",
        "\n",
        "@app.route('/delete-item', methods=['DELETE'])\n",
        "def delete_item():\n",
        "    return 'Item deleted.'\n",
        "\n",
        "@app.route('/update-item', methods=['PUT'])\n",
        "def update_item():\n",
        "    return 'Item updated.'\n"
      ],
      "metadata": {
        "id": "ZnpWxThZARQu"
      },
      "execution_count": null,
      "outputs": []
    },
    {
      "cell_type": "markdown",
      "source": [
        "**4.How do you render HTML templates in Flask?**\n"
      ],
      "metadata": {
        "id": "dn1oWV5J0FEc"
      }
    },
    {
      "cell_type": "code",
      "source": [
        "<!doctype html>\n",
        "<html>\n",
        "<head>\n",
        "    <title>Hello Page</title>\n",
        "</head>\n",
        "<body>\n",
        "    <h1>Hello, {{ name }}!</h1>\n",
        "</body>\n",
        "</html>\n",
        "from flask import Flask, render_template\n",
        "\n",
        "app = Flask(__name__)\n",
        "\n",
        "@app.route('/hello/<name>')\n",
        "def hello(name):\n",
        "    return render_template('hello.html', name=name)\n",
        "\n",
        "if __name__ == '__main__':\n",
        "    app.run(debug=True)\n"
      ],
      "metadata": {
        "id": "81ekp-iHAT28"
      },
      "execution_count": null,
      "outputs": []
    },
    {
      "cell_type": "markdown",
      "source": [
        "**5.How can you generate URLs for routes in Flask using url_for?**\n"
      ],
      "metadata": {
        "id": "GnAeO3nL0HhX"
      }
    },
    {
      "cell_type": "code",
      "source": [
        "from flask import Flask, url_for, redirect\n",
        "\n",
        "app = Flask(__name__)\n",
        "\n",
        "@app.route('/')\n",
        "def home():\n",
        "    return 'This is the home page.'\n",
        "\n",
        "@app.route('/user/<username>')\n",
        "def profile(username):\n",
        "    return f\"Profile page of {username}\"\n",
        "\n",
        "@app.route('/go-to-profile')\n",
        "def go_to_profile():\n",
        "    # Redirect to the profile of 'john'\n",
        "    return redirect(url_for('profile', username='john'))\n",
        "\n",
        "if __name__ == '__main__':\n",
        "    app.run(debug=True)\n"
      ],
      "metadata": {
        "id": "jOxlPq4eDfL3"
      },
      "execution_count": null,
      "outputs": []
    },
    {
      "cell_type": "markdown",
      "source": [
        "**6.How do you handle forms in Flask?**\n"
      ],
      "metadata": {
        "id": "ElBg92u50JO_"
      }
    },
    {
      "cell_type": "code",
      "source": [
        "<!-- templates/form.html -->\n",
        "<form action=\"{{ url_for('submit') }}\" method=\"POST\">\n",
        "    <label>Name: <input type=\"text\" name=\"name\"></label>\n",
        "    <input type=\"submit\" value=\"Submit\">\n",
        "</form>\n",
        "from flask import Flask, render_template, request\n",
        "\n",
        "app = Flask(__name__)\n",
        "\n",
        "@app.route('/form', methods=['GET'])\n",
        "def form():\n",
        "    return render_template('form.html')\n",
        "\n",
        "@app.route('/submit', methods=['POST'])\n",
        "def submit():\n",
        "    name = request.form['name']  # or request.form.get('name')\n",
        "    return f'Hello, {name}!'\n",
        "@app.route('/submit', methods=['POST'])\n",
        "def submit():\n",
        "    name = request.form.get('name')\n",
        "    if not name:\n",
        "        return \"Name is required\", 400\n",
        "    return f\"Hello, {name}!\"\n",
        "from flask_wtf import FlaskForm\n",
        "from wtforms import StringField, SubmitField\n",
        "from wtforms.validators import DataRequired\n",
        "\n",
        "class NameForm(FlaskForm):\n",
        "    name = StringField('Name', validators=[DataRequired()])\n",
        "    submit = SubmitField('Submit')\n"
      ],
      "metadata": {
        "id": "pbR4UNTLDytX"
      },
      "execution_count": null,
      "outputs": []
    },
    {
      "cell_type": "markdown",
      "source": [
        "**7.How can you validate form data in Flask?**\n"
      ],
      "metadata": {
        "id": "_arl758s0LA3"
      }
    },
    {
      "cell_type": "code",
      "source": [
        "from flask import Flask, request, render_template_string\n",
        "\n",
        "app = Flask(__name__)\n",
        "\n",
        "@app.route('/form', methods=['GET', 'POST'])\n",
        "def form():\n",
        "    if request.method == 'POST':\n",
        "        name = request.form.get('name', '').strip()\n",
        "        if not name:\n",
        "            return 'Name is required', 400\n",
        "        return f'Hello, {name}!'\n",
        "\n",
        "    # Simple inline HTML for demonstration\n",
        "    return render_template_string('''\n",
        "        <form method=\"post\">\n",
        "            Name: <input type=\"text\" name=\"name\">\n",
        "            <input type=\"submit\">\n",
        "        </form>\n",
        "    ''')\n",
        "app = Flask(__name__)\n",
        "app.secret_key = 'your_secret_key'  # Required for CSRF protection\n",
        "from flask_wtf import FlaskForm\n",
        "from wtforms import StringField, SubmitField\n",
        "from wtforms.validators import DataRequired\n",
        "\n",
        "class NameForm(FlaskForm):\n",
        "    name = StringField('Name', validators=[DataRequired()])\n",
        "    submit = SubmitField('Submit')\n",
        "@app.route('/form', methods=['GET', 'POST'])\n",
        "def form():\n",
        "    form = NameForm()\n",
        "    if form.validate_on_submit():\n",
        "        return f'Hello, {form.name.data}!'\n",
        "    return render_template('form.html', form=form)\n",
        "<form method=\"POST\">\n",
        "    {{ form.hidden_tag() }}\n",
        "    {{ form.name.label }} {{ form.name(size=20) }}\n",
        "    {{ form.submit() }}\n",
        "    {% for error in form.name.errors %}\n",
        "        <p style=\"color:red;\">{{ error }}</p>\n",
        "    {% endfor %}\n",
        "</form>\n"
      ],
      "metadata": {
        "id": "sCxsJaw3D4v5"
      },
      "execution_count": null,
      "outputs": []
    },
    {
      "cell_type": "markdown",
      "source": [
        "**8.How do you manage sessions in Flask?**\n"
      ],
      "metadata": {
        "id": "CvNCqFvp0MxK"
      }
    },
    {
      "cell_type": "code",
      "source": [
        "from flask import Flask, session\n",
        "\n",
        "app = Flask(__name__)\n",
        "app.secret_key = 'your_secret_key'  # Keep this secret in production\n",
        "@app.route('/login')\n",
        "def login():\n",
        "    session['username'] = 'johndoe'\n",
        "    return 'User logged in'\n",
        "@app.route('/profile')\n",
        "def profile():\n",
        "    username = session.get('username')\n",
        "    if username:\n",
        "        return f'Logged in as {username}'\n",
        "    return 'You are not logged in'\n",
        "@app.route('/logout')\n",
        "def logout():\n",
        "    session.pop('username', None)\n",
        "    return 'User logged out'\n",
        "from flask import Flask, session\n",
        "from flask_session import Session\n",
        "\n",
        "app = Flask(__name__)\n",
        "app.config['SESSION_TYPE'] = 'filesystem'\n",
        "Session(app)\n"
      ],
      "metadata": {
        "id": "zrrIdV44EvT4"
      },
      "execution_count": null,
      "outputs": []
    },
    {
      "cell_type": "markdown",
      "source": [
        "**9.How do you redirect to a different route in Flask?**\n"
      ],
      "metadata": {
        "id": "-uSWl2h00OQW"
      }
    },
    {
      "cell_type": "code",
      "source": [
        "from flask import Flask, redirect, url_for\n",
        "\n",
        "app = Flask(__name__)\n",
        "\n",
        "@app.route('/')\n",
        "def index():\n",
        "    return redirect(url_for('hello'))\n",
        "\n",
        "@app.route('/hello')\n",
        "def hello():\n",
        "    return 'Hello there!'\n",
        "@app.route('/user/<username>')\n",
        "def user_profile(username):\n",
        "    return f'Welcome, {username}!'\n",
        "\n",
        "@app.route('/login')\n",
        "def login():\n",
        "    # Simulate login and redirect to profile\n",
        "    return redirect(url_for('user_profile', username='jane'))\n",
        "    @app.route('/google')\n",
        "def go_to_google():\n",
        "    return redirect('https://www.google.com')\n",
        "\n"
      ],
      "metadata": {
        "id": "sJokEI4fFGYD"
      },
      "execution_count": null,
      "outputs": []
    },
    {
      "cell_type": "markdown",
      "source": [
        "**10.How do you handle errors in Flask (e.g., 404)?**\n"
      ],
      "metadata": {
        "id": "RuQJPlrE0P2X"
      }
    },
    {
      "cell_type": "code",
      "source": [
        "from flask import Flask, render_template\n",
        "\n",
        "app = Flask(__name__)\n",
        "\n",
        "@app.errorhandler(404)\n",
        "def page_not_found(e):\n",
        "    return render_template('404.html'), 404\n",
        "@app.errorhandler(500)\n",
        "def internal_error(e):\n",
        "    return render_template('500.html'), 500\n",
        "@app.errorhandler(Exception)\n",
        "def handle_exception(e):\n",
        "    return render_template('error.html', error=e), 500\n",
        "from flask import abort\n",
        "\n",
        "@app.route('/secret')\n",
        "def secret():\n",
        "    abort(403)  # Forbidden\n",
        "@app.errorhandler(403)\n",
        "def forbidden(e):\n",
        "    return 'Access denied!', 403\n"
      ],
      "metadata": {
        "id": "xY31gmOuFZrI"
      },
      "execution_count": null,
      "outputs": []
    },
    {
      "cell_type": "markdown",
      "source": [
        "**11.How do you structure a Flask app using Blueprints?**\n"
      ],
      "metadata": {
        "id": "0ibeF-Yq0R8d"
      }
    },
    {
      "cell_type": "code",
      "source": [
        "from flask import Blueprint\n",
        "\n",
        "auth = Blueprint('auth', __name__)\n",
        "\n",
        "from . import routes  # Import routes after defining the blueprint\n",
        "from flask import render_template\n",
        "from . import auth\n",
        "\n",
        "@auth.route('/login')\n",
        "def login():\n",
        "    return render_template('auth/login.html')\n",
        "from flask import Blueprint\n",
        "\n",
        "blog = Blueprint('blog', __name__)\n",
        "\n",
        "from . import routes\n",
        "from flask import render_template\n",
        "from . import blog\n",
        "\n",
        "@blog.route('/post/<int:id>')\n",
        "def post(id):\n",
        "    return render_template('blog/post.html', post_id=id)\n",
        "from flask import Flask\n",
        "from auth import auth as auth_blueprint\n",
        "from blog import blog as blog_blueprint\n",
        "\n",
        "app = Flask(__name__)\n",
        "\n",
        "# Register Blueprints\n",
        "app.register_blueprint(auth_blueprint, url_prefix='/auth')\n",
        "app.register_blueprint(blog_blueprint, url_prefix='/blog')\n",
        "\n",
        "if __name__ == '__main__':\n",
        "    app.run(debug=True)\n"
      ],
      "metadata": {
        "id": "ubD8kPb9FqGt"
      },
      "execution_count": null,
      "outputs": []
    },
    {
      "cell_type": "markdown",
      "source": [
        "**12.How do you define a custom Jinja filter in Flask?**\n"
      ],
      "metadata": {
        "id": "EbIPtA3Z0Thz"
      }
    },
    {
      "cell_type": "code",
      "source": [
        "from flask import Flask\n",
        "\n",
        "app = Flask(__name__)\n",
        "\n",
        "# Define a custom Jinja filter\n",
        "@app.template_filter('reverse')\n",
        "def reverse_string(s):\n",
        "    return s[::-1]\n",
        "\n",
        "@app.route('/')\n",
        "def index():\n",
        "    return 'Welcome to Flask!'\n",
        "\n",
        "if __name__ == '__main__':\n",
        "    app.run(debug=True)\n",
        "<!doctype html>\n",
        "<html>\n",
        "<head>\n",
        "    <title>Custom Filter Example</title>\n",
        "</head>\n",
        "<body>\n",
        "    <h1>{{ 'Hello, Flask!' | reverse }}</h1>\n",
        "</body>\n",
        "</html>\n",
        "@app.template_filter('reverse')\n",
        "def reverse_string(s):\n",
        "    return s[::-1]\n",
        "\n",
        "@app.template_filter('uppercase')\n",
        "def uppercase_string(s):\n",
        "    return s.upper()\n",
        "@app.template_filter('repeat')\n",
        "def repeat_string(s, n):\n",
        "    return s * n\n",
        "from flask import Blueprint\n",
        "\n",
        "# Create a Blueprint\n",
        "my_blueprint = Blueprint('my_blueprint', __name__)\n",
        "\n",
        "@my_blueprint.app_template_filter('reverse')\n",
        "def reverse_string(s):\n",
        "    return s[::-1]\n",
        "\n",
        "# Register the blueprint\n",
        "app.register_blueprint(my_blueprint)\n"
      ],
      "metadata": {
        "id": "5pjTMj2lGSFn"
      },
      "execution_count": null,
      "outputs": []
    },
    {
      "cell_type": "markdown",
      "source": [
        "**13.How can you redirect with query parameters in Flask?**\n"
      ],
      "metadata": {
        "id": "_QnJ-rEt0WO4"
      }
    },
    {
      "cell_type": "code",
      "source": [
        "from flask import Flask, redirect, url_for\n",
        "\n",
        "app = Flask(__name__)\n",
        "\n",
        "@app.route('/')\n",
        "def home():\n",
        "    return redirect(url_for('profile', user_id=123, ref='newsletter'))\n",
        "\n",
        "@app.route('/profile')\n",
        "def profile():\n",
        "    user_id = request.args.get('user_id')\n",
        "    ref = request.args.get('ref')\n",
        "    return f\"Profile of user {user_id}, referred by {ref}\"\n",
        "\n",
        "if __name__ == '__main__':\n",
        "    app.run(debug=True)\n"
      ],
      "metadata": {
        "id": "9O_dCb3LGpvs"
      },
      "execution_count": null,
      "outputs": []
    },
    {
      "cell_type": "markdown",
      "source": [
        "**14.How do you return JSON responses in Flask?**\n"
      ],
      "metadata": {
        "id": "W438AEsl0YDH"
      }
    },
    {
      "cell_type": "code",
      "source": [
        "from flask import Flask, jsonify\n",
        "\n",
        "app = Flask(__name__)\n",
        "\n",
        "@app.route('/api/data')\n",
        "def get_data():\n",
        "    data = {\n",
        "        'name': 'Alice',\n",
        "        'age': 30,\n",
        "        'city': 'New York'\n",
        "    }\n",
        "    return jsonify(data)\n",
        "\n",
        "if __name__ == '__main__':\n",
        "    app.run(debug=True)\n"
      ],
      "metadata": {
        "id": "J3HJcqVFG7X_"
      },
      "execution_count": null,
      "outputs": []
    },
    {
      "cell_type": "markdown",
      "source": [
        "**15.How do you capture URL parameters in Flask?**"
      ],
      "metadata": {
        "id": "YebHNACk0ZoJ"
      }
    },
    {
      "cell_type": "code",
      "source": [
        "from flask import Flask\n",
        "\n",
        "app = Flask(__name__)\n",
        "\n",
        "@app.route('/user/<username>')\n",
        "def show_user(username):\n",
        "    return f'Hello, {username}!'\n",
        "\n",
        "if __name__ == '__main__':\n",
        "    app.run(debug=True)\n"
      ],
      "metadata": {
        "id": "45Lr2h--0bX3"
      },
      "execution_count": null,
      "outputs": []
    }
  ]
}